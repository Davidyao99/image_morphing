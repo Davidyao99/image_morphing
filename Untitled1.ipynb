{
 "cells": [
  {
   "cell_type": "code",
   "execution_count": null,
   "id": "eda08876",
   "metadata": {},
   "outputs": [],
   "source": []
  },
  {
   "cell_type": "code",
   "execution_count": null,
   "id": "d4667997",
   "metadata": {},
   "outputs": [],
   "source": [
    "model = torchvision.models.resnet18(pretrained=True)\n",
    "model.fc = torch.nn.Linear(model.fc.in_features, 68*2)\n",
    "model = model.type(torch.FloatTensor)\n",
    "net = model.to('cuda')\n",
    "net.load_state_dict(torch.load('saved_models/resnet18_pretrain_model.pt'))"
   ]
  }
 ],
 "metadata": {
  "kernelspec": {
   "display_name": "image_morph",
   "language": "python",
   "name": "image_morph"
  },
  "language_info": {
   "codemirror_mode": {
    "name": "ipython",
    "version": 3
   },
   "file_extension": ".py",
   "mimetype": "text/x-python",
   "name": "python",
   "nbconvert_exporter": "python",
   "pygments_lexer": "ipython3",
   "version": "3.11.5"
  }
 },
 "nbformat": 4,
 "nbformat_minor": 5
}
